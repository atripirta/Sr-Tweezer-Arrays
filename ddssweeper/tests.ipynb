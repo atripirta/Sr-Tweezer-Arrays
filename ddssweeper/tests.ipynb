{
 "cells": [
  {
   "cell_type": "code",
   "execution_count": 1,
   "metadata": {},
   "outputs": [],
   "source": [
    "import serial\n",
    "import time\n",
    "\n",
    "# You will have to change this to whatever COM port the pico is assigned when\n",
    "# you plug it in.\n",
    "# On Windows you can open device manager and look at the 'Ports (COM & LPT)' dropdown\n",
    "# the pico will show up as 'USB Serial Device'\n",
    "PICO_PORT = '/dev/ttyACM0'\n",
    "\n",
    "MHZ = 1000000"
   ]
  },
  {
   "cell_type": "code",
   "execution_count": 2,
   "metadata": {},
   "outputs": [],
   "source": [
    "# helper for sending serial commands\n",
    "# expects a string with the command (they dont have to be escaped with \\r or \\n at the end)\n",
    "# if echo is set to false, that means not to worry about the response from the\n",
    "# pico it signifigantly reduces communication time when sending many\n",
    "# instructions, but you lose out on the debugging info from the pico\n",
    "def send(command: str, echo = True) -> str:\n",
    "    # pico is expecting a newline to end every command\n",
    "    if command[-1] != '\\n':\n",
    "        command += '\\n'\n",
    "\n",
    "    resp = ''\n",
    "    conn = None\n",
    "    try:\n",
    "        conn = serial.Serial(PICO_PORT, baudrate = 152000, timeout = 0.1)\n",
    "        conn.write(command.encode())\n",
    "        if echo:\n",
    "            resp = conn.readlines()\n",
    "            resp = \"\".join([s.decode() for s in resp])\n",
    "\n",
    "    except Exception as e:\n",
    "        print(\"Encountered Error: \", e)\n",
    "\n",
    "    finally:\n",
    "        conn.close()\n",
    "\n",
    "    return resp\n"
   ]
  },
  {
   "cell_type": "markdown",
   "metadata": {},
   "source": [
    "## Test Serial Communication with the Pico"
   ]
  },
  {
   "cell_type": "code",
   "execution_count": 9,
   "metadata": {},
   "outputs": [
    {
     "name": "stdout",
     "output_type": "stream",
     "text": [
      "Serial Communication Successful\n"
     ]
    }
   ],
   "source": [
    "assert send('reset')    == 'ok\\r\\n'\n",
    "assert send('status')   == '0\\r\\n'\n",
    "assert send('version')  == '0.1.1\\r\\n'\n",
    "print('Serial Communication Successful')"
   ]
  },
  {
   "cell_type": "markdown",
   "metadata": {},
   "source": [
    "## Test Register Readback"
   ]
  },
  {
   "cell_type": "code",
   "execution_count": 10,
   "metadata": {},
   "outputs": [
    {
     "data": {
      "text/plain": [
       "{'pll_mult': 0,\n",
       " 0: {'freq': 0.0, 'phase': 0.0, 'amp': 1},\n",
       " 1: {'freq': 0.0, 'phase': 0.0, 'amp': 1},\n",
       " 2: {'freq': 0.0, 'phase': 0.0, 'amp': 1},\n",
       " 3: {'freq': 0.0, 'phase': 0.0, 'amp': 1}}"
      ]
     },
     "execution_count": 10,
     "metadata": {},
     "output_type": "execute_result"
    }
   ],
   "source": [
    "    # Helper for reading register values and putting them in a dictionary\n",
    "    # takes in the frequency of the reference clock, assuming default of 125 MHz\n",
    "    def readregs(ref_clk = 125 * MHZ) -> dict:\n",
    "        ad9959 = {}\n",
    "\n",
    "        regs = send('readregs')\n",
    "        regs = regs.split('\\r\\n')\n",
    "        \n",
    "        # strip out register labels\n",
    "        regs = [''.join(r.split()[1:]) for r in regs]\n",
    "\n",
    "        # convert from hex to decimal\n",
    "        for i, reg in enumerate(regs):\n",
    "            try:\n",
    "                regs[i] = int(reg, 16)\n",
    "            except ValueError:\n",
    "                pass\n",
    "\n",
    "        # mask and shift to pull out PLL Multiplier from fr1\n",
    "        ad9959['pll_mult'] = (regs[1] & 0x7c0000) >> 18\n",
    "\n",
    "        # will need system clock to find the frequencies from the tuning words\n",
    "        sys_clk = ref_clk * ad9959['pll_mult']\n",
    "        #print(sys_clk)\n",
    "        for i in range(4):\n",
    "            ad9959[i] = {}\n",
    "\n",
    "            ftw = regs[5 + 9 * i]\n",
    "            ad9959[i]['freq'] = ftw / 2**32 * sys_clk\n",
    "\n",
    "            pow = regs[6 + 9 * i]\n",
    "            ad9959[i]['phase'] = pow * 360 / 2**14\n",
    "\n",
    "            acr = regs[7 + 9 * i]\n",
    "            if acr & 0x001000:\n",
    "                ad9959[i]['amp'] = (acr & 0x0003ff) / 1023\n",
    "            else:\n",
    "                ad9959[i]['amp'] = 1\n",
    "\n",
    "        return ad9959\n",
    "\n",
    "    readregs()\n"
   ]
  },
  {
   "cell_type": "code",
   "execution_count": 5,
   "metadata": {},
   "outputs": [
    {
     "ename": "AssertionError",
     "evalue": "",
     "output_type": "error",
     "traceback": [
      "\u001b[0;31m---------------------------------------------------------------------------\u001b[0m",
      "\u001b[0;31mAssertionError\u001b[0m                            Traceback (most recent call last)",
      "Cell \u001b[0;32mIn [5], line 16\u001b[0m\n\u001b[1;32m     12\u001b[0m ad9959 \u001b[38;5;241m=\u001b[39m readregs()\n\u001b[1;32m     14\u001b[0m \u001b[38;5;66;03m#print(ad9959[2]['amp'])\u001b[39;00m\n\u001b[0;32m---> 16\u001b[0m \u001b[38;5;28;01massert\u001b[39;00m \u001b[38;5;28mabs\u001b[39m(ad9959[\u001b[38;5;241m2\u001b[39m][\u001b[38;5;124m'\u001b[39m\u001b[38;5;124mamp\u001b[39m\u001b[38;5;124m'\u001b[39m] \u001b[38;5;241m-\u001b[39m \u001b[38;5;241m0.5\u001b[39m) \u001b[38;5;241m<\u001b[39m \u001b[38;5;241m0.01\u001b[39m\n\u001b[1;32m     17\u001b[0m \u001b[38;5;28;01massert\u001b[39;00m \u001b[38;5;28mabs\u001b[39m(ad9959[\u001b[38;5;241m0\u001b[39m][\u001b[38;5;124m'\u001b[39m\u001b[38;5;124mfreq\u001b[39m\u001b[38;5;124m'\u001b[39m] \u001b[38;5;241m-\u001b[39m \u001b[38;5;241m100\u001b[39m \u001b[38;5;241m*\u001b[39m MHZ) \u001b[38;5;241m<\u001b[39m \u001b[38;5;241m1\u001b[39m\n\u001b[1;32m     18\u001b[0m \u001b[38;5;28;01massert\u001b[39;00m \u001b[38;5;28mabs\u001b[39m(ad9959[\u001b[38;5;241m1\u001b[39m][\u001b[38;5;124m'\u001b[39m\u001b[38;5;124mphase\u001b[39m\u001b[38;5;124m'\u001b[39m] \u001b[38;5;241m-\u001b[39m \u001b[38;5;241m270\u001b[39m) \u001b[38;5;241m<\u001b[39m \u001b[38;5;241m1\u001b[39m\n",
      "\u001b[0;31mAssertionError\u001b[0m: "
     ]
    }
   ],
   "source": [
    "assert send('reset') == 'ok\\r\\n', 'Could not run \"reset\" command'\n",
    "ad9959 = readregs()\n",
    "for i in range(4):\n",
    "    assert ad9959[i]['freq'] == 0\n",
    "    assert ad9959[i]['phase'] == 0\n",
    "    assert ad9959[i]['amp'] == 1\n",
    "\n",
    "send('setamp 2 0.5')\n",
    "send('setfreq 0 100000000')\n",
    "send('setphase 1 270')\n",
    "\n",
    "ad9959 = readregs()\n",
    "\n",
    "#print(ad9959[2]['amp'])\n",
    "\n",
    "assert abs(ad9959[2]['amp'] - 0.5) < 0.01\n",
    "assert abs(ad9959[0]['freq'] - 100 * MHZ) < 1\n",
    "assert abs(ad9959[1]['phase'] - 270) < 1\n",
    "\n",
    "print('Register Readback Successful')\n"
   ]
  },
  {
   "cell_type": "markdown",
   "metadata": {},
   "source": [
    "## Test Single Stepping Table Mode\n",
    "\n",
    "Program a 2000 step table that single steps from 10 MHz to 100 MHz over the corse of 2 seconds.\n",
    "The resulting sweep can easily be seen with a spectrum analyzer. \n",
    "It is then automatically executed and checks that all 2000 triggers were processed successfully."
   ]
  },
  {
   "cell_type": "code",
   "execution_count": 6,
   "metadata": {},
   "outputs": [
    {
     "ename": "AssertionError",
     "evalue": "",
     "output_type": "error",
     "traceback": [
      "\u001b[0;31m---------------------------------------------------------------------------\u001b[0m",
      "\u001b[0;31mAssertionError\u001b[0m                            Traceback (most recent call last)",
      "Cell \u001b[0;32mIn [6], line 15\u001b[0m\n\u001b[1;32m     13\u001b[0m \u001b[38;5;28;01mfor\u001b[39;00m i \u001b[38;5;129;01min\u001b[39;00m \u001b[38;5;28mrange\u001b[39m(steps):\n\u001b[1;32m     14\u001b[0m     send(\u001b[38;5;124mf\u001b[39m\u001b[38;5;124m'\u001b[39m\u001b[38;5;124mset 0 \u001b[39m\u001b[38;5;132;01m{\u001b[39;00mi\u001b[38;5;132;01m}\u001b[39;00m\u001b[38;5;124m \u001b[39m\u001b[38;5;132;01m{\u001b[39;00mstartPoint \u001b[38;5;241m+\u001b[39m delta \u001b[38;5;241m*\u001b[39m i\u001b[38;5;132;01m}\u001b[39;00m\u001b[38;5;124m 1 0 \u001b[39m\u001b[38;5;132;01m{\u001b[39;00mspacing \u001b[38;5;241m*\u001b[39m \u001b[38;5;241m10\u001b[39m\u001b[38;5;241m*\u001b[39m\u001b[38;5;241m*\u001b[39m\u001b[38;5;241m9\u001b[39m \u001b[38;5;241m/\u001b[39m \u001b[38;5;241m8\u001b[39m\u001b[38;5;132;01m}\u001b[39;00m\u001b[38;5;124m'\u001b[39m, echo\u001b[38;5;241m=\u001b[39m\u001b[38;5;28;01mFalse\u001b[39;00m)\n\u001b[0;32m---> 15\u001b[0m \u001b[38;5;28;01massert\u001b[39;00m send(\u001b[38;5;124mf\u001b[39m\u001b[38;5;124m'\u001b[39m\u001b[38;5;124mset 4 \u001b[39m\u001b[38;5;132;01m{\u001b[39;00mi \u001b[38;5;241m+\u001b[39m \u001b[38;5;241m1\u001b[39m\u001b[38;5;132;01m}\u001b[39;00m\u001b[38;5;124m'\u001b[39m) \u001b[38;5;241m==\u001b[39m \u001b[38;5;124m\"\u001b[39m\u001b[38;5;124mok\u001b[39m\u001b[38;5;130;01m\\r\u001b[39;00m\u001b[38;5;130;01m\\n\u001b[39;00m\u001b[38;5;124m\"\u001b[39m\n\u001b[1;32m     17\u001b[0m \u001b[38;5;28mprint\u001b[39m(\u001b[38;5;124m\"\u001b[39m\u001b[38;5;124mTable Programmed, Executing\u001b[39m\u001b[38;5;124m\"\u001b[39m)\n\u001b[1;32m     18\u001b[0m \u001b[38;5;28;01massert\u001b[39;00m send(\u001b[38;5;124m'\u001b[39m\u001b[38;5;124mstart\u001b[39m\u001b[38;5;124m'\u001b[39m) \u001b[38;5;241m==\u001b[39m \u001b[38;5;124m'\u001b[39m\u001b[38;5;124mok\u001b[39m\u001b[38;5;130;01m\\r\u001b[39;00m\u001b[38;5;130;01m\\n\u001b[39;00m\u001b[38;5;124m'\u001b[39m, \u001b[38;5;124m'\u001b[39m\u001b[38;5;124mBuffered Execution did not start correctly\u001b[39m\u001b[38;5;124m'\u001b[39m\n",
      "\u001b[0;31mAssertionError\u001b[0m: "
     ]
    }
   ],
   "source": [
    "startPoint = 10 * MHZ\n",
    "endPoint = 100 * MHZ\n",
    "totalTime = 0.01 # sec\n",
    "\n",
    "spacing = 1000 * 10**(-6) # us\n",
    "steps = round(totalTime / spacing)\n",
    "delta = (endPoint - startPoint) / steps\n",
    "\n",
    "send('debug off')\n",
    "send('mode 0 1')\n",
    "send('setchannels 1')\n",
    "\n",
    "for i in range(steps):\n",
    "    send(f'set 0 {i} {startPoint + delta * i} 1 0 {spacing * 10**9 / 8}', echo=False)\n",
    "assert send(f'set 4 {i + 1}') == \"ok\\r\\n\"\n",
    "\n",
    "print(\"Table Programmed, Executing\")\n",
    "assert send('start') == 'ok\\r\\n', 'Buffered Execution did not start correctly'\n",
    "time.sleep(totalTime)\n",
    "assert send('numtriggers') == f'{steps}\\r\\n', 'Wrong number of triggers processed'\n",
    "print('Table Executed successfully')\n"
   ]
  },
  {
   "cell_type": "markdown",
   "metadata": {},
   "source": [
    "### Test Non-Volatile Storage\n",
    "Run this test after the previous one to test storing and retrieving table instructions in non-volatile memory that will survive a power cycle."
   ]
  },
  {
   "cell_type": "code",
   "execution_count": 9,
   "metadata": {},
   "outputs": [
    {
     "ename": "AssertionError",
     "evalue": "Something went wrong",
     "output_type": "error",
     "traceback": [
      "\u001b[0;31m---------------------------------------------------------------------------\u001b[0m",
      "\u001b[0;31mAssertionError\u001b[0m                            Traceback (most recent call last)",
      "Cell \u001b[0;32mIn [9], line 16\u001b[0m\n\u001b[1;32m     13\u001b[0m send(\u001b[38;5;124m'\u001b[39m\u001b[38;5;124mstart\u001b[39m\u001b[38;5;124m'\u001b[39m)\n\u001b[1;32m     15\u001b[0m time\u001b[38;5;241m.\u001b[39msleep(\u001b[38;5;241m2\u001b[39m)\n\u001b[0;32m---> 16\u001b[0m \u001b[38;5;28;01massert\u001b[39;00m send(\u001b[38;5;124m'\u001b[39m\u001b[38;5;124mnumtriggers\u001b[39m\u001b[38;5;124m'\u001b[39m) \u001b[38;5;241m==\u001b[39m \u001b[38;5;124m'\u001b[39m\u001b[38;5;124m2000\u001b[39m\u001b[38;5;130;01m\\r\u001b[39;00m\u001b[38;5;130;01m\\n\u001b[39;00m\u001b[38;5;124m'\u001b[39m, \u001b[38;5;124m'\u001b[39m\u001b[38;5;124mSomething went wrong\u001b[39m\u001b[38;5;124m'\u001b[39m\n\u001b[1;32m     17\u001b[0m \u001b[38;5;28mprint\u001b[39m(\u001b[38;5;124m'\u001b[39m\u001b[38;5;124mTable run from non-volatile memory successfully\u001b[39m\u001b[38;5;124m'\u001b[39m)\n",
      "\u001b[0;31mAssertionError\u001b[0m: Something went wrong"
     ]
    }
   ],
   "source": [
    "send('save')\n",
    "\n",
    "# # destory current table\n",
    "time.sleep(2)\n",
    "for i in range(steps):\n",
    "    send(f'set 0 {i} 0 0 0 0', echo=False)\n",
    "\n",
    "# load and run table\n",
    "send('load')\n",
    "time.sleep(1)\n",
    "send('mode 0 1')\n",
    "send('setchannels 1')\n",
    "send('start')\n",
    "\n",
    "time.sleep(2)\n",
    "assert send('numtriggers') == '2000\\r\\n', 'Something went wrong'\n",
    "print('Table run from non-volatile memory successfully')\n"
   ]
  },
  {
   "cell_type": "markdown",
   "metadata": {},
   "source": [
    "## Amplitude Sweep\n",
    "\n",
    "### Pico Start"
   ]
  },
  {
   "cell_type": "code",
   "execution_count": 10,
   "metadata": {},
   "outputs": [
    {
     "name": "stdout",
     "output_type": "stream",
     "text": [
      "Success\n"
     ]
    }
   ],
   "source": [
    "send('debug off')\n",
    "send(\"\"\"mode 1 1\n",
    "setchannels 1\n",
    "setfreq 0 100000000\n",
    "setfreq 1 100000000\n",
    "setfreq 2 100000000\n",
    "setfreq 3 100000000\n",
    "set 0 0 1.0 0.0 0.001 1 2000\n",
    "set 0 1 0.0 0.5 0.001 1 2000\n",
    "set 0 2 0.5 1.0 0.001 1 2000\n",
    "set 0 3 1.0 0.0 0.001 1 2000\n",
    "set 0 4 0.0 1.0 0.001 1 2000\n",
    "set 0 5 1.0 0.5 0.001 1 2000\n",
    "set 0 6 0.5 0.0 0.001 1 2000\n",
    "set 0 7 0.0 1.0 0.001 1 2000\n",
    "set 4 8\n",
    "start\n",
    "\"\"\")\n",
    "\n",
    "assert send('numtriggers') == '8\\r\\n'\n",
    "print('Success')"
   ]
  },
  {
   "cell_type": "markdown",
   "metadata": {},
   "source": [
    "### HWStart"
   ]
  },
  {
   "cell_type": "code",
   "execution_count": 11,
   "metadata": {},
   "outputs": [
    {
     "data": {
      "text/plain": [
       "'ok\\r\\nok\\r\\nok\\r\\nok\\r\\nok\\r\\nok\\r\\nok\\r\\nok\\r\\nok\\r\\nok\\r\\nok\\r\\nok\\r\\nok\\r\\nok\\r\\nok\\r\\nok\\r\\nok\\r\\n'"
      ]
     },
     "execution_count": 11,
     "metadata": {},
     "output_type": "execute_result"
    }
   ],
   "source": [
    "send('debug off')\n",
    "send(\"\"\"abort\n",
    "mode 1 1\n",
    "setchannels 1\n",
    "setfreq 0 100000000\n",
    "setfreq 1 100000000\n",
    "setfreq 2 100000000\n",
    "setfreq 3 100000000\n",
    "set 0 0 1.0 0.0 0.001 1 2000\n",
    "set 0 1 0.0 0.5 0.001 1 2000\n",
    "set 0 2 0.5 1.0 0.001 1 2000\n",
    "set 0 3 1.0 0.0 0.001 1 2000\n",
    "set 0 4 0.0 1.0 0.001 1 2000\n",
    "set 0 5 1.0 0.5 0.001 1 2000\n",
    "set 0 6 0.5 0.0 0.001 1 2000\n",
    "set 0 7 0.0 1.0 0.001 1 2000\n",
    "set 4 8\n",
    "hwstart\n",
    "\"\"\")"
   ]
  },
  {
   "cell_type": "markdown",
   "metadata": {},
   "source": [
    "This produces the following scope trace:  \n",
    "<img src=\"amp-test.png\" alt=\"Amplitude Sweep Test on Oscilloscope\">  \n",
    "$D_1$ is the IO_UPDATE line between the pico and the AD9959.  \n",
    "$D_0$ is the external trigger line into the pico.  \n",
    "The yellow trace is any of the 4 channel outputs from the AD9959"
   ]
  },
  {
   "cell_type": "markdown",
   "metadata": {},
   "source": [
    "## Frequency Sweep"
   ]
  },
  {
   "cell_type": "code",
   "execution_count": 64,
   "metadata": {},
   "outputs": [
    {
     "name": "stdout",
     "output_type": "stream",
     "text": [
      "Success\n"
     ]
    }
   ],
   "source": [
    "f112 = 112e6\n",
    "f115 = 115e6\n",
    "f118 = 118e6\n",
    "\n",
    "d = 2000\n",
    "t = 3000\n",
    "\n",
    "send(\n",
    "f\"\"\"abort\n",
    "mode 2 1\n",
    "setchannels 1\n",
    "set 0 0 {f112} {f118} {d}   1 {t}\n",
    "set 0 1 {f118} {f115} {d/4} 1 {t*2}\n",
    "set 0 2 {f115} {f112} {d}   1 {t/2}\n",
    "set 0 3 {f112} {f112} {0}   1 {t}\n",
    "set 0 4 {f115} {f115} {0}   1 {t}\n",
    "set 0 5 {f118} {f118} {0}   1 {t}\n",
    "set 0 6 {f118} {f112} {d}   1 {t}\n",
    "\n",
    "set 0 7 {f112} {f115} {d/4} 1 {t*2}\n",
    "set 0 8 {f115} {f118} {d}   1 {t*10}\n",
    "set 0 9 {f112} {f112}  0    1 1\n",
    "set 4 10\n",
    "start\n",
    "\"\"\"\n",
    ")\n",
    "\n",
    "assert send('numtriggers') == '10\\r\\n'\n",
    "print('Success')"
   ]
  },
  {
   "cell_type": "markdown",
   "metadata": {},
   "source": [
    "Produces the following scope trace:  \n",
    "<img src=\"freq-test.png\" alt=\"Frequency Sweep Example on oscilloscope\">  \n",
    "$D_1$ is the IO_UPDATE line between the pico and the AD9959.  \n",
    "$D_0$ is the external trigger line into the pico.  \n",
    "The yellow trace is any of the 4 channel outputs from the AD9959  \n",
    "The green trace is the output from an interferometer\n",
    "\n",
    "\n",
    "\n",
    "The following code is for the same trace, but with an external trigger:"
   ]
  },
  {
   "cell_type": "code",
   "execution_count": 65,
   "metadata": {},
   "outputs": [
    {
     "data": {
      "text/plain": [
       "'ok\\r\\nok\\r\\nok\\r\\nSet ins #0 for channel 0 from 111999999.964610 Hz to 118000000.016764 Hz with delta 2000.015229 Hz and rate of 1\\r\\nok\\r\\nSet ins #1 for channel 0 from 118000000.016764 Hz to 114999999.990687 Hz with delta 2000.015229 Hz and rate of 1\\r\\nok\\r\\nSet ins #2 for channel 0 from 114999999.990687 Hz to 111999999.964610 Hz with delta 2000.015229 Hz and rate of 1\\r\\nok\\r\\nSet ins #3 for channel 0 from 111999999.964610 Hz to 114999999.990687 Hz with delta 2000.015229 Hz and rate of 1\\r\\nok\\r\\nSet ins #4 for channel 0 from 114999999.990687 Hz to 118000000.016764 Hz with delta 2000.015229 Hz and rate of 1\\r\\nok\\r\\nSet ins #5 for channel 0 from 118000000.016764 Hz to 111999999.964610 Hz with delta 2000.015229 Hz and rate of 1\\r\\nok\\r\\nok\\r\\nok\\r\\n'"
      ]
     },
     "execution_count": 65,
     "metadata": {},
     "output_type": "execute_result"
    }
   ],
   "source": [
    "send(\n",
    "f\"\"\"abort\n",
    "mode 2 0\n",
    "setchannels 1\n",
    "set 0 0 {f112} {f118} {d} 1 {t}\n",
    "set 0 1 {f118} {f115} {d} 1 {t}\n",
    "set 0 2 {f115} {f112} {d} 1 {t}\n",
    "set 0 3 {f112} {f115} {d} 1 {t}\n",
    "set 0 4 {f115} {f118} {d} 1 {t}\n",
    "set 0 5 {f118} {f112} {d} 1 {t}\n",
    "set 5 6\n",
    "hwstart\n",
    "\"\"\"\n",
    ")"
   ]
  },
  {
   "cell_type": "markdown",
   "metadata": {},
   "source": [
    "## Phase Sweep"
   ]
  },
  {
   "cell_type": "code",
   "execution_count": 66,
   "metadata": {},
   "outputs": [
    {
     "name": "stdout",
     "output_type": "stream",
     "text": [
      "Success\n"
     ]
    }
   ],
   "source": [
    "t = 2000\n",
    "d = 0.2\n",
    "\n",
    "send(f\"\"\"abort\n",
    "debug off\n",
    "setfreq 0 100000000\n",
    "setfreq 1 100000000\n",
    "setfreq 2 100000000\n",
    "setfreq 3 100000000\n",
    "setphase 0 0\n",
    "setphase 1 0\n",
    "setphase 2 0\n",
    "setphase 3 0\n",
    "mode 3 1\n",
    "setchannels 2\n",
    "set 0 0 0 0 0 0 {t}\n",
    "set 0 1 0 0 0 0 {t}\n",
    "set 0 2 0 0 0 0 {t}\n",
    "set 0 3 0 0 0 0 {t}\n",
    "set 0 4 0 0 0 0 {t}\n",
    "set 0 5 0 0 0 0 {t}\n",
    "set 1 0 0 180 {d} 1 {t}\n",
    "set 1 1 180 90 {d} 1 {t}\n",
    "set 1 2 90 0 {d} 1 {t}\n",
    "set 1 3 0 90 {d} 1 {t}\n",
    "set 1 4 90 180 {d} 1 {t}\n",
    "set 1 5 180 0 {d} 1 {t}\n",
    "set 4 6\n",
    "start\n",
    "\"\"\")\n",
    "\n",
    "assert send('numtriggers') == '6\\r\\n'\n",
    "print('Success')"
   ]
  },
  {
   "cell_type": "markdown",
   "metadata": {},
   "source": [
    "This produces the following scope trace:    \n",
    "<img src=\"phase-test.png\" alt=\"Phase Sweep Test on Oscilloscope\">  \n",
    "$D_1$ is the IO_UPDATE line between the pico and the AD9959.  \n",
    "$D_0$ is the external trigger line into the pico.  \n",
    "The yellow trace is channel 1 from the AD9959  \n",
    "The pink trace is the output of a phase frequency detector between channels 0 and 1 of the AD9959"
   ]
  },
  {
   "cell_type": "markdown",
   "metadata": {},
   "source": [
    "## Frequency Sweep and Single Step Other Params"
   ]
  },
  {
   "cell_type": "code",
   "execution_count": 67,
   "metadata": {},
   "outputs": [
    {
     "name": "stdout",
     "output_type": "stream",
     "text": [
      "Success\n"
     ]
    }
   ],
   "source": [
    "f112 = 112e6\n",
    "f115 = 115e6\n",
    "f118 = 118e6\n",
    "\n",
    "d = 20000\n",
    "t = 30000\n",
    "\n",
    "send(\n",
    "f\"\"\"abort\n",
    "mode 5 1\n",
    "setchannels 2\n",
    "set 0 0 {f112} {f118} {d}   1 1 0 {t}\n",
    "set 0 1 {f118} {f115} {d/4} 1 1 0 {t*2}\n",
    "set 0 2 {f115} {f112} {d}   1 1 0 {t/2}\n",
    "set 0 3 {f112} {f112} {0}   1 1 0 {t}\n",
    "set 0 4 {f115} {f115} {0}   1 1 0 {t}\n",
    "set 0 5 {f118} {f118} {0}   1 1 0 {t}\n",
    "set 0 6 {f118} {f112} {d}   1 1 0 {t}\n",
    "set 0 7 {f112} {f115} {d/4} 1 1 0 {t*2}\n",
    "set 0 8 {f115} {f118} {d}   1 1 0 {t*10}\n",
    "set 0 9 {f112} {f112}  0    1 1 0 1\n",
    "set 1 0 {f112} {f118} {d}   1 0.75 90 {t}\n",
    "set 1 1 {f118} {f115} {d/4} 1 0.5  180 {t*2}\n",
    "set 1 2 {f115} {f112} {d}   1 0.9  90 {t/2}\n",
    "set 1 3 {f112} {f112} {0}   1 1.0  00 {t}\n",
    "set 1 4 {f115} {f115} {0}   1 0.9  90 {t}\n",
    "set 1 5 {f118} {f118} {0}   1 0.8  180 {t}\n",
    "set 1 6 {f118} {f112} {d}   1 0.9  90 {t}\n",
    "set 1 7 {f112} {f115} {d/4} 1 1.0  00 {t*2}\n",
    "set 1 8 {f115} {f118} {d}   1 0.9  90 {t*10}\n",
    "set 1 9 {f112} {f112}  0    1 1.0  90 1\n",
    "set 4 10\n",
    "start\n",
    "\"\"\"\n",
    ")\n",
    "\n",
    "assert send('numtriggers') == '10\\r\\n'\n",
    "print('Success')"
   ]
  },
  {
   "cell_type": "markdown",
   "metadata": {},
   "source": [
    "This produces the following scope trace:    \n",
    "<img src=\"all_sweep.png\" alt=\"Phase Sweep Test on Oscilloscope\">  \n",
    "$D_1$ is the IO_UPDATE line between the pico and the AD9959.  \n",
    "$D_0$ is the external trigger line into the pico.  \n",
    "The yellow trace is channel 1 from the AD9959  \n",
    "The pink trace is the output of a phase frequency detector between channels 0 and 1 of the AD9959\n",
    "The green trace is the interferometer"
   ]
  },
  {
   "cell_type": "code",
   "execution_count": 18,
   "metadata": {},
   "outputs": [
    {
     "data": {
      "text/plain": [
       "'set freq: 85500000.044703\\r\\nok\\r\\n'"
      ]
     },
     "execution_count": 18,
     "metadata": {},
     "output_type": "execute_result"
    }
   ],
   "source": [
    "send('setfreq1')"
   ]
  },
  {
   "cell_type": "code",
   "execution_count": 21,
   "metadata": {},
   "outputs": [
    {
     "data": {
      "text/plain": [
       "{'pll_mult': 4,\n",
       " 0: {'freq': 0.0, 'phase': 0.0, 'amp': 1},\n",
       " 1: {'freq': 0.0, 'phase': 0.0, 'amp': 1},\n",
       " 2: {'freq': 0.0, 'phase': 0.0, 'amp': 1},\n",
       " 3: {'freq': 0.0, 'phase': 0.0, 'amp': 1}}"
      ]
     },
     "execution_count": 21,
     "metadata": {},
     "output_type": "execute_result"
    }
   ],
   "source": [
    "readregs()"
   ]
  },
  {
   "cell_type": "code",
   "execution_count": 24,
   "metadata": {},
   "outputs": [
    {
     "data": {
      "text/plain": [
       "''"
      ]
     },
     "execution_count": 24,
     "metadata": {},
     "output_type": "execute_result"
    }
   ],
   "source": [
    "send('pattern2')"
   ]
  },
  {
   "cell_type": "code",
   "execution_count": 8,
   "metadata": {},
   "outputs": [
    {
     "data": {
      "text/plain": [
       "''"
      ]
     },
     "execution_count": 8,
     "metadata": {},
     "output_type": "execute_result"
    }
   ],
   "source": [
    "send('checkv')"
   ]
  },
  {
   "cell_type": "code",
   "execution_count": 23,
   "metadata": {},
   "outputs": [
    {
     "data": {
      "text/plain": [
       "''"
      ]
     },
     "execution_count": 23,
     "metadata": {},
     "output_type": "execute_result"
    }
   ],
   "source": [
    "send('pattern8')"
   ]
  },
  {
   "cell_type": "code",
   "execution_count": 25,
   "metadata": {},
   "outputs": [
    {
     "data": {
      "text/plain": [
       "''"
      ]
     },
     "execution_count": 25,
     "metadata": {},
     "output_type": "execute_result"
    }
   ],
   "source": [
    "send('reset')"
   ]
  }
 ],
 "metadata": {
  "kernelspec": {
   "display_name": "Python 3 (ipykernel)",
   "language": "python",
   "name": "python3"
  },
  "language_info": {
   "codemirror_mode": {
    "name": "ipython",
    "version": 3
   },
   "file_extension": ".py",
   "mimetype": "text/x-python",
   "name": "python",
   "nbconvert_exporter": "python",
   "pygments_lexer": "ipython3",
   "version": "3.10.11"
  },
  "vscode": {
   "interpreter": {
    "hash": "e03806b84a2716c492803880915f283f11b8db3da799c7b12cf408e41369bfae"
   }
  }
 },
 "nbformat": 4,
 "nbformat_minor": 4
}
